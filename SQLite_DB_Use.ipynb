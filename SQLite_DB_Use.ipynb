{
  "nbformat": 4,
  "nbformat_minor": 0,
  "metadata": {
    "colab": {
      "provenance": [],
      "authorship_tag": "ABX9TyM0Gn/L3CfYxxkrEqY+hdZ+",
      "include_colab_link": true
    },
    "kernelspec": {
      "name": "python3",
      "display_name": "Python 3"
    },
    "language_info": {
      "name": "python"
    }
  },
  "cells": [
    {
      "cell_type": "markdown",
      "metadata": {
        "id": "view-in-github",
        "colab_type": "text"
      },
      "source": [
        "<a href=\"https://colab.research.google.com/github/Tgoutam/skills-introduction-to-github/blob/main/SQLite_DB_Use.ipynb\" target=\"_parent\"><img src=\"https://colab.research.google.com/assets/colab-badge.svg\" alt=\"Open In Colab\"/></a>"
      ]
    },
    {
      "cell_type": "code",
      "execution_count": 4,
      "metadata": {
        "id": "iQeyVhB715tq",
        "colab": {
          "base_uri": "https://localhost:8080/"
        },
        "outputId": "6c3f84fd-24c7-4657-8f97-4bec95d818f3"
      },
      "outputs": [
        {
          "output_type": "stream",
          "name": "stdout",
          "text": [
            "DataFrame:\n",
            "   id   name  age\n",
            "0   1  DOBKA   45\n",
            "1   2  LOBKA   78\n",
            "2   3  HOBKA   39\n"
          ]
        }
      ],
      "source": [
        "import pandas as pd\n",
        "\n",
        "# Create a DataFrame with 3 records\n",
        "data = {\n",
        "    'id': [1, 2, 3],\n",
        "    'name': ['DOBKA', 'LOBKA', 'HOBKA'],\n",
        "    'age': [45,78,39]\n",
        "}\n",
        "\n",
        "df = pd.DataFrame(data)\n",
        "print(\"DataFrame:\")\n",
        "print(df)"
      ]
    },
    {
      "cell_type": "code",
      "source": [
        "import sqlite3\n",
        "\n",
        "# Create a connection to the SQLite database (or create it if it doesn't exist)\n",
        "conn = sqlite3.connect('example2.db')\n",
        "\n",
        "# Create a cursor object\n",
        "cur = conn.cursor()\n",
        "\n",
        "# Drop the table if it exists\n",
        "cur.execute('DROP TABLE IF EXISTS ZZZ')\n",
        "\n",
        "# Create table ZZZ if it doesn't exist\n",
        "cur.execute('''\n",
        "CREATE TABLE IF NOT EXISTS ZZZ (\n",
        "    id INTEGER PRIMARY KEY,\n",
        "    name TEXT,\n",
        "    age INTEGER\n",
        ")\n",
        "''')\n",
        "\n",
        "# Insert DataFrame records into the SQLite table\n",
        "for row in df.itertuples(index=False):\n",
        "    cur.execute('''\n",
        "    INSERT INTO ZZZ (id, name, age)\n",
        "    VALUES (?, ?, ?)\n",
        "    ''', (row.id, row.name, row.age))\n",
        "\n",
        "# Commit the transaction\n",
        "conn.commit()\n"
      ],
      "metadata": {
        "id": "HrcTL4c_GsZn"
      },
      "execution_count": 6,
      "outputs": []
    },
    {
      "cell_type": "code",
      "source": [
        "# Fetch all records from the table\n",
        "cur.execute('SELECT * FROM ZZZ')\n",
        "rows = cur.fetchall()\n",
        "\n",
        "# Print the fetched records\n",
        "print(\"Records from table ZZZ:\")\n",
        "for row in rows:\n",
        "    print(row)\n",
        "\n",
        "# Close the connection\n",
        "conn.close()\n"
      ],
      "metadata": {
        "colab": {
          "base_uri": "https://localhost:8080/"
        },
        "id": "Y5T1XgZuHXdu",
        "outputId": "e222b7ce-1c90-4668-bd79-06b5e6a9a3ac"
      },
      "execution_count": 7,
      "outputs": [
        {
          "output_type": "stream",
          "name": "stdout",
          "text": [
            "Records from table ZZZ:\n",
            "(1, 'DOBKA', 45)\n",
            "(2, 'LOBKA', 78)\n",
            "(3, 'HOBKA', 39)\n"
          ]
        }
      ]
    }
  ]
}