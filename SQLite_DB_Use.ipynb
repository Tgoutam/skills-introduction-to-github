{
  "nbformat": 4,
  "nbformat_minor": 0,
  "metadata": {
    "colab": {
      "provenance": [],
      "authorship_tag": "ABX9TyMv8qo+uK3TKmOM9cpiw4fv",
      "include_colab_link": true
    },
    "kernelspec": {
      "name": "python3",
      "display_name": "Python 3"
    },
    "language_info": {
      "name": "python"
    }
  },
  "cells": [
    {
      "cell_type": "markdown",
      "metadata": {
        "id": "view-in-github",
        "colab_type": "text"
      },
      "source": [
        "<a href=\"https://colab.research.google.com/github/Tgoutam/skills-introduction-to-github/blob/main/SQLite_DB_Use.ipynb\" target=\"_parent\"><img src=\"https://colab.research.google.com/assets/colab-badge.svg\" alt=\"Open In Colab\"/></a>"
      ]
    },
    {
      "cell_type": "code",
      "execution_count": 2,
      "metadata": {
        "id": "iQeyVhB715tq",
        "colab": {
          "base_uri": "https://localhost:8080/"
        },
        "outputId": "e03d6f0a-c065-4695-fc76-4c202c355053"
      },
      "outputs": [
        {
          "output_type": "stream",
          "name": "stdout",
          "text": [
            "DataFrame:\n",
            "   id  name  age\n",
            "0   1  ZZZZ   45\n",
            "1   2  RRRR   78\n",
            "2   3  XXXX   39\n"
          ]
        }
      ],
      "source": [
        "import pandas as pd\n",
        "\n",
        "# Create a DataFrame with 3 records\n",
        "data = {\n",
        "    'id': [1, 2, 3],\n",
        "    'name': ['ZZZZ', 'RRRR', 'XXXX'],\n",
        "    'age': [45,78,39]\n",
        "}\n",
        "\n",
        "df = pd.DataFrame(data)\n",
        "print(\"DataFrame:\")\n",
        "print(df)"
      ]
    },
    {
      "cell_type": "code",
      "source": [
        "import sqlite3\n",
        "\n",
        "# Create a connection to the SQLite database (or create it if it doesn't exist)\n",
        "conn = sqlite3.connect('example2.db')\n",
        "\n",
        "# Create a cursor object\n",
        "cur = conn.cursor()\n",
        "\n",
        "# Create table ZZZ if it doesn't exist\n",
        "cur.execute('''\n",
        "CREATE TABLE IF NOT EXISTS ZZZ (\n",
        "    id INTEGER PRIMARY KEY,\n",
        "    name TEXT,\n",
        "    age INTEGER\n",
        ")\n",
        "''')\n",
        "\n",
        "# Insert DataFrame records into the SQLite table\n",
        "for row in df.itertuples(index=False):\n",
        "    cur.execute('''\n",
        "    INSERT INTO ZZZ (id, name, age)\n",
        "    VALUES (?, ?, ?)\n",
        "    ''', (row.id, row.name, row.age))\n",
        "\n",
        "# Commit the transaction\n",
        "conn.commit()\n"
      ],
      "metadata": {
        "id": "HrcTL4c_GsZn"
      },
      "execution_count": 3,
      "outputs": []
    },
    {
      "cell_type": "code",
      "source": [
        "# Fetch all records from the table\n",
        "cur.execute('SELECT * FROM ZZZ')\n",
        "rows = cur.fetchall()\n",
        "\n",
        "# Print the fetched records\n",
        "print(\"Records from table ZZZ:\")\n",
        "for row in rows:\n",
        "    print(row)\n",
        "\n",
        "# Close the connection\n",
        "conn.close()\n"
      ],
      "metadata": {
        "colab": {
          "base_uri": "https://localhost:8080/"
        },
        "id": "Y5T1XgZuHXdu",
        "outputId": "e5b35f56-a4f1-4fe1-cf1c-a67e77215d2a"
      },
      "execution_count": 4,
      "outputs": [
        {
          "output_type": "stream",
          "name": "stdout",
          "text": [
            "Records from table ZZZ:\n",
            "(1, 'ZZZZ', 45)\n",
            "(2, 'RRRR', 78)\n",
            "(3, 'XXXX', 39)\n"
          ]
        }
      ]
    }
  ]
}