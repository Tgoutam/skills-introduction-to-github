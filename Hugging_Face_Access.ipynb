{
  "nbformat": 4,
  "nbformat_minor": 0,
  "metadata": {
    "colab": {
      "provenance": [],
      "authorship_tag": "ABX9TyM6Ydkyvy/q8pWdwRUTX3oz",
      "include_colab_link": true
    },
    "kernelspec": {
      "name": "python3",
      "display_name": "Python 3"
    },
    "language_info": {
      "name": "python"
    }
  },
  "cells": [
    {
      "cell_type": "markdown",
      "metadata": {
        "id": "view-in-github",
        "colab_type": "text"
      },
      "source": [
        "<a href=\"https://colab.research.google.com/github/Tgoutam/skills-introduction-to-github/blob/main/Hugging_Face_Access.ipynb\" target=\"_parent\"><img src=\"https://colab.research.google.com/assets/colab-badge.svg\" alt=\"Open In Colab\"/></a>"
      ]
    },
    {
      "cell_type": "code",
      "execution_count": 3,
      "metadata": {
        "id": "axzQPZXeMZcD"
      },
      "outputs": [],
      "source": [
        "from google.colab import output"
      ]
    },
    {
      "cell_type": "code",
      "source": [
        "import os"
      ],
      "metadata": {
        "id": "eFezFbXwO54t"
      },
      "execution_count": 5,
      "outputs": []
    },
    {
      "cell_type": "code",
      "source": [
        "# Function to set the Hugging Face token securely\n",
        "def set_hf_token():\n",
        "    token = input(\"Enter your Hugging Face token: \")\n",
        "    os.environ['HF_TOKEN'] = token\n",
        "    output.clear()\n",
        "\n",
        "set_hf_token()\n"
      ],
      "metadata": {
        "id": "z8ep4Bk1OT0y"
      },
      "execution_count": 6,
      "outputs": []
    },
    {
      "cell_type": "code",
      "source": [
        "# Verify the token is set (optional, remove in production)\n",
        "print(os.getenv('HF_TOKEN'))\n"
      ],
      "metadata": {
        "id": "fh6izBEjPa6R"
      },
      "execution_count": null,
      "outputs": []
    }
  ]
}