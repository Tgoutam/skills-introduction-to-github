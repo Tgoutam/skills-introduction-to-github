{
  "nbformat": 4,
  "nbformat_minor": 0,
  "metadata": {
    "colab": {
      "provenance": [],
      "authorship_tag": "ABX9TyMYHrJi9PEra4t0eWfWL5Eb",
      "include_colab_link": true
    },
    "kernelspec": {
      "name": "python3",
      "display_name": "Python 3"
    },
    "language_info": {
      "name": "python"
    }
  },
  "cells": [
    {
      "cell_type": "markdown",
      "metadata": {
        "id": "view-in-github",
        "colab_type": "text"
      },
      "source": [
        "<a href=\"https://colab.research.google.com/github/Tgoutam/skills-introduction-to-github/blob/main/Feature%20Importance(Titanic%20).ipynb\" target=\"_parent\"><img src=\"https://colab.research.google.com/assets/colab-badge.svg\" alt=\"Open In Colab\"/></a>"
      ]
    },
    {
      "cell_type": "code",
      "execution_count": null,
      "metadata": {
        "id": "JCPQMvLko-B3"
      },
      "outputs": [],
      "source": []
    },
    {
      "cell_type": "markdown",
      "source": [
        "\n",
        "## **FEATURE IMPORTANCE** - USING RandomForestClassifier and Ensemble\n",
        "\n",
        "**Step 1: Importing the RandomForestClassifier**\n",
        "\n",
        "# from sklearn.ensemble import RandomForestClassifier\n",
        "\n",
        "This line imports the RandomForestClassifier from the sklearn.ensemble module. The RandomForestClassifier is an ensemble learning method that fits multiple decision trees on various sub-samples of the dataset and uses averaging to improve the predictive accuracy and control over-fitting.\n",
        "\n",
        "**Step 2: Defining Features and Target Variable**\n",
        "\n",
        "# Define the features and target variable\n",
        "X = df.drop(columns=['Survived', 'Name', 'Ticket', 'PassengerId'])\n",
        "y = df['Survived']\n",
        "\n",
        "Here, we define the features (X) and the target variable (y):\n",
        "\n",
        "X: This is the feature set used to train the model. We drop the columns\n",
        "\n",
        "'Survived', 'Name', 'Ticket', and 'PassengerId' from the dataframe df because:\n",
        "\n",
        "'Survived' is the target variable we want to predict.\n",
        "\n",
        "'Name', 'Ticket', and 'PassengerId' are not used as features in this case (likely because they don't directly contribute to the survival prediction).\n",
        "\n",
        "y: This is the target variable (the outcome we want to predict), which in this case is the 'Survived' column from the dataframe df.\n",
        "\n",
        "**Step 3: Training the RandomForestClassifier**\n",
        "# Train a RandomForestClassifier to evaluate feature importance\n",
        "model = RandomForestClassifier(n_estimators=100, random_state=42)\n",
        "model.fit(X, y)\n",
        "\n",
        "Here, we are training the RandomForestClassifier:\n",
        "\n",
        "RandomForestClassifier(n_estimators=100, random_state=42): We create an instance of the RandomForestClassifier with 100 trees (n_estimators=100). The random_state=42 ensures reproducibility by providing a seed for the random number generator.\n",
        "\n",
        "model.fit(X, y): This line trains the RandomForestClassifier using the features X and the target variable y.\n",
        "\n",
        "**Step 4: Plotting Feature Importances**\n",
        "\n",
        "# Plot feature importances\n",
        "\n",
        "importances = pd.Series(model.feature_importances_, index=X.columns)\n",
        "importances.sort_values().plot(kind='barh', color='steelblue')\n",
        "plt.title('Feature Importances')\n",
        "plt.show()\n",
        "\n",
        "This block of code is used to visualize the importance of each feature in predicting the target variable:\n",
        "\n",
        "model.feature_importances_: This attribute provides the importance of each feature in making predictions. The higher the value, the more important the feature.\n",
        "\n",
        "pd.Series(model.feature_importances_, index=X.columns): We create a pandas.Series object where the index is the feature names (X.columns), and the values are the feature importances.\n",
        "\n",
        "importances.sort_values().plot(kind='barh', color='steelblue'): This line sorts the feature importances and then plots them as a horizontal bar chart (kind='barh'). The color of the bars is set to 'steelblue'.\n",
        "\n",
        "plt.title('Feature Importances'): Adds a title to the plot.\n",
        "plt.show(): Displays the plot.\n",
        "\n",
        "**Summary**\n",
        "\n",
        "This code:\n",
        "\n",
        "Imports the RandomForestClassifier.\n",
        "\n",
        "Defines the features (X) and target variable (y) from the dataset df.\n",
        "\n",
        "Trains a RandomForestClassifier on the dataset.\n",
        "\n",
        "Visualizes the importance of each feature in predicting the target variable using a horizontal bar chart.\n",
        "\n",
        "This process helps us understand which features are most important for predicting survival on the Titanic, providing valuable insights for further analysis and model refinement.\n",
        "\n",
        "\n",
        "\n",
        "\n",
        "\n",
        "\n"
      ],
      "metadata": {
        "id": "JvsygAuDpNf-"
      }
    }
  ]
}